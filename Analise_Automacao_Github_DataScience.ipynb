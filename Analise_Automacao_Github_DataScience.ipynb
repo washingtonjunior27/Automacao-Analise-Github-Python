{
 "cells": [
  {
   "cell_type": "markdown",
   "id": "219d377f-26e0-4f90-9901-15c5d90048b7",
   "metadata": {
    "tags": []
   },
   "source": [
    "## Bibliotecas"
   ]
  },
  {
   "cell_type": "code",
   "execution_count": 294,
   "id": "18f02b94-f9e7-4942-8779-4f1a0a56fac9",
   "metadata": {},
   "outputs": [],
   "source": [
    "import pyautogui as pag\n",
    "import time\n",
    "import pyperclip as pc\n",
    "import pandas as pd\n",
    "import matplotlib.pyplot as plt\n",
    "import seaborn as sns\n",
    "\n",
    "pag.PAUSE = 1"
   ]
  },
  {
   "cell_type": "markdown",
   "id": "aef892b1-8bd0-4344-96c9-eac37377edc1",
   "metadata": {},
   "source": [
    "## Download de Base de Dados (Automatizada)"
   ]
  },
  {
   "cell_type": "code",
   "execution_count": 295,
   "id": "e999f038-7632-4e4c-add5-35277630ed04",
   "metadata": {},
   "outputs": [],
   "source": [
    "pag.press('win')\n",
    "pag.write('chrome')\n",
    "pag.press('enter')\n",
    "pc.copy('https://www.kaggle.com/datasets/ruchi798/data-science-job-salaries')\n",
    "pag.hotkey('ctrl', 'v')\n",
    "pag.press('enter')\n",
    "time.sleep(5)\n",
    "pag.press('tab', presses=36)\n",
    "pag.press('enter')\n",
    "time.sleep(5)"
   ]
  },
  {
   "cell_type": "markdown",
   "id": "f6472f6e-8bd0-44d1-b10a-4ab20c757d77",
   "metadata": {},
   "source": [
    "## Analise da Base de Dados"
   ]
  },
  {
   "cell_type": "code",
   "execution_count": 296,
   "id": "7a9d3c6a-3dd2-4e27-84c6-a868c1eff243",
   "metadata": {},
   "outputs": [
    {
     "data": {
      "text/html": [
       "<div>\n",
       "<style scoped>\n",
       "    .dataframe tbody tr th:only-of-type {\n",
       "        vertical-align: middle;\n",
       "    }\n",
       "\n",
       "    .dataframe tbody tr th {\n",
       "        vertical-align: top;\n",
       "    }\n",
       "\n",
       "    .dataframe thead th {\n",
       "        text-align: right;\n",
       "    }\n",
       "</style>\n",
       "<table border=\"1\" class=\"dataframe\">\n",
       "  <thead>\n",
       "    <tr style=\"text-align: right;\">\n",
       "      <th></th>\n",
       "      <th>experience_level</th>\n",
       "      <th>employment_type</th>\n",
       "      <th>job_title</th>\n",
       "      <th>salary_in_usd</th>\n",
       "      <th>employee_residence</th>\n",
       "    </tr>\n",
       "  </thead>\n",
       "  <tbody>\n",
       "    <tr>\n",
       "      <th>0</th>\n",
       "      <td>MI</td>\n",
       "      <td>FT</td>\n",
       "      <td>Data Scientist</td>\n",
       "      <td>79833</td>\n",
       "      <td>DE</td>\n",
       "    </tr>\n",
       "    <tr>\n",
       "      <th>1</th>\n",
       "      <td>SE</td>\n",
       "      <td>FT</td>\n",
       "      <td>Machine Learning Scientist</td>\n",
       "      <td>260000</td>\n",
       "      <td>JP</td>\n",
       "    </tr>\n",
       "    <tr>\n",
       "      <th>2</th>\n",
       "      <td>SE</td>\n",
       "      <td>FT</td>\n",
       "      <td>Big Data Engineer</td>\n",
       "      <td>109024</td>\n",
       "      <td>GB</td>\n",
       "    </tr>\n",
       "    <tr>\n",
       "      <th>3</th>\n",
       "      <td>MI</td>\n",
       "      <td>FT</td>\n",
       "      <td>Product Data Analyst</td>\n",
       "      <td>20000</td>\n",
       "      <td>HN</td>\n",
       "    </tr>\n",
       "    <tr>\n",
       "      <th>4</th>\n",
       "      <td>SE</td>\n",
       "      <td>FT</td>\n",
       "      <td>Machine Learning Engineer</td>\n",
       "      <td>150000</td>\n",
       "      <td>US</td>\n",
       "    </tr>\n",
       "    <tr>\n",
       "      <th>...</th>\n",
       "      <td>...</td>\n",
       "      <td>...</td>\n",
       "      <td>...</td>\n",
       "      <td>...</td>\n",
       "      <td>...</td>\n",
       "    </tr>\n",
       "    <tr>\n",
       "      <th>602</th>\n",
       "      <td>SE</td>\n",
       "      <td>FT</td>\n",
       "      <td>Data Engineer</td>\n",
       "      <td>154000</td>\n",
       "      <td>US</td>\n",
       "    </tr>\n",
       "    <tr>\n",
       "      <th>603</th>\n",
       "      <td>SE</td>\n",
       "      <td>FT</td>\n",
       "      <td>Data Engineer</td>\n",
       "      <td>126000</td>\n",
       "      <td>US</td>\n",
       "    </tr>\n",
       "    <tr>\n",
       "      <th>604</th>\n",
       "      <td>SE</td>\n",
       "      <td>FT</td>\n",
       "      <td>Data Analyst</td>\n",
       "      <td>129000</td>\n",
       "      <td>US</td>\n",
       "    </tr>\n",
       "    <tr>\n",
       "      <th>605</th>\n",
       "      <td>SE</td>\n",
       "      <td>FT</td>\n",
       "      <td>Data Analyst</td>\n",
       "      <td>150000</td>\n",
       "      <td>US</td>\n",
       "    </tr>\n",
       "    <tr>\n",
       "      <th>606</th>\n",
       "      <td>MI</td>\n",
       "      <td>FT</td>\n",
       "      <td>AI Scientist</td>\n",
       "      <td>200000</td>\n",
       "      <td>IN</td>\n",
       "    </tr>\n",
       "  </tbody>\n",
       "</table>\n",
       "<p>607 rows × 5 columns</p>\n",
       "</div>"
      ],
      "text/plain": [
       "    experience_level employment_type                   job_title  \\\n",
       "0                 MI              FT              Data Scientist   \n",
       "1                 SE              FT  Machine Learning Scientist   \n",
       "2                 SE              FT           Big Data Engineer   \n",
       "3                 MI              FT        Product Data Analyst   \n",
       "4                 SE              FT   Machine Learning Engineer   \n",
       "..               ...             ...                         ...   \n",
       "602               SE              FT               Data Engineer   \n",
       "603               SE              FT               Data Engineer   \n",
       "604               SE              FT                Data Analyst   \n",
       "605               SE              FT                Data Analyst   \n",
       "606               MI              FT                AI Scientist   \n",
       "\n",
       "     salary_in_usd employee_residence  \n",
       "0            79833                 DE  \n",
       "1           260000                 JP  \n",
       "2           109024                 GB  \n",
       "3            20000                 HN  \n",
       "4           150000                 US  \n",
       "..             ...                ...  \n",
       "602         154000                 US  \n",
       "603         126000                 US  \n",
       "604         129000                 US  \n",
       "605         150000                 US  \n",
       "606         200000                 IN  \n",
       "\n",
       "[607 rows x 5 columns]"
      ]
     },
     "metadata": {},
     "output_type": "display_data"
    }
   ],
   "source": [
    "tabela_data_science = pd.read_csv(r'C:\\Users\\wpena\\Downloads\\ds_salaries.csv', index_col=0)\n",
    "tabela_data_science = tabela_data_science[['experience_level', 'employment_type', 'job_title', 'salary_in_usd', 'employee_residence']]\n",
    "display(tabela_data_science)"
   ]
  },
  {
   "cell_type": "markdown",
   "id": "8c590ef7-c085-4b11-9858-f2bedfdaa063",
   "metadata": {},
   "source": [
    "### Valores Unicos e Nulos"
   ]
  },
  {
   "cell_type": "code",
   "execution_count": 297,
   "id": "55722fa2-4e8c-432f-92c9-307abd30a59c",
   "metadata": {},
   "outputs": [
    {
     "data": {
      "text/plain": [
       "experience_level        4\n",
       "employment_type         4\n",
       "job_title              50\n",
       "salary_in_usd         369\n",
       "employee_residence     57\n",
       "dtype: int64"
      ]
     },
     "execution_count": 297,
     "metadata": {},
     "output_type": "execute_result"
    }
   ],
   "source": [
    "tabela_data_science.nunique()"
   ]
  },
  {
   "cell_type": "code",
   "execution_count": 298,
   "id": "0833f6f2-e737-4b8f-b90b-9bc0496990de",
   "metadata": {},
   "outputs": [
    {
     "data": {
      "text/plain": [
       "experience_level      0\n",
       "employment_type       0\n",
       "job_title             0\n",
       "salary_in_usd         0\n",
       "employee_residence    0\n",
       "dtype: int64"
      ]
     },
     "execution_count": 298,
     "metadata": {},
     "output_type": "execute_result"
    }
   ],
   "source": [
    "tabela_data_science.isnull().sum()"
   ]
  },
  {
   "cell_type": "markdown",
   "id": "b97c19dd-e1dc-455b-b087-da9802370746",
   "metadata": {},
   "source": [
    "### Top 10 - Profissoes com Maior salario total em Dólar"
   ]
  },
  {
   "cell_type": "code",
   "execution_count": 299,
   "id": "6c3362d4-f779-40a8-bd3c-9e4914ae14e8",
   "metadata": {},
   "outputs": [
    {
     "data": {
      "text/html": [
       "<div>\n",
       "<style scoped>\n",
       "    .dataframe tbody tr th:only-of-type {\n",
       "        vertical-align: middle;\n",
       "    }\n",
       "\n",
       "    .dataframe tbody tr th {\n",
       "        vertical-align: top;\n",
       "    }\n",
       "\n",
       "    .dataframe thead th {\n",
       "        text-align: right;\n",
       "    }\n",
       "</style>\n",
       "<table border=\"1\" class=\"dataframe\">\n",
       "  <thead>\n",
       "    <tr style=\"text-align: right;\">\n",
       "      <th></th>\n",
       "      <th>job_title</th>\n",
       "      <th>salary_in_usd</th>\n",
       "    </tr>\n",
       "  </thead>\n",
       "  <tbody>\n",
       "    <tr>\n",
       "      <th>22</th>\n",
       "      <td>Data Scientist</td>\n",
       "      <td>15470860</td>\n",
       "    </tr>\n",
       "    <tr>\n",
       "      <th>17</th>\n",
       "      <td>Data Engineer</td>\n",
       "      <td>14879700</td>\n",
       "    </tr>\n",
       "    <tr>\n",
       "      <th>12</th>\n",
       "      <td>Data Analyst</td>\n",
       "      <td>9010627</td>\n",
       "    </tr>\n",
       "    <tr>\n",
       "      <th>38</th>\n",
       "      <td>Machine Learning Engineer</td>\n",
       "      <td>4300086</td>\n",
       "    </tr>\n",
       "    <tr>\n",
       "      <th>16</th>\n",
       "      <td>Data Architect</td>\n",
       "      <td>1956613</td>\n",
       "    </tr>\n",
       "    <tr>\n",
       "      <th>21</th>\n",
       "      <td>Data Science Manager</td>\n",
       "      <td>1899942</td>\n",
       "    </tr>\n",
       "    <tr>\n",
       "      <th>48</th>\n",
       "      <td>Research Scientist</td>\n",
       "      <td>1744312</td>\n",
       "    </tr>\n",
       "    <tr>\n",
       "      <th>46</th>\n",
       "      <td>Principal Data Scientist</td>\n",
       "      <td>1506697</td>\n",
       "    </tr>\n",
       "    <tr>\n",
       "      <th>25</th>\n",
       "      <td>Director of Data Science</td>\n",
       "      <td>1365518</td>\n",
       "    </tr>\n",
       "    <tr>\n",
       "      <th>41</th>\n",
       "      <td>Machine Learning Scientist</td>\n",
       "      <td>1267300</td>\n",
       "    </tr>\n",
       "  </tbody>\n",
       "</table>\n",
       "</div>"
      ],
      "text/plain": [
       "                     job_title  salary_in_usd\n",
       "22              Data Scientist       15470860\n",
       "17               Data Engineer       14879700\n",
       "12                Data Analyst        9010627\n",
       "38   Machine Learning Engineer        4300086\n",
       "16              Data Architect        1956613\n",
       "21        Data Science Manager        1899942\n",
       "48          Research Scientist        1744312\n",
       "46    Principal Data Scientist        1506697\n",
       "25    Director of Data Science        1365518\n",
       "41  Machine Learning Scientist        1267300"
      ]
     },
     "execution_count": 299,
     "metadata": {},
     "output_type": "execute_result"
    }
   ],
   "source": [
    "tabela_job = tabela_data_science.groupby('job_title')[['salary_in_usd']].sum().reset_index()\n",
    "tabela_job = tabela_job.sort_values('salary_in_usd', ascending=False).head(10)\n",
    "tabela_job"
   ]
  },
  {
   "cell_type": "code",
   "execution_count": 300,
   "id": "8bb2541b-02dd-4dbe-8a2b-40e32fcc345f",
   "metadata": {},
   "outputs": [
    {
     "data": {
      "image/png": "[encoded data removed]",
      "text/plain": [
       "<Figure size 864x360 with 1 Axes>"
      ]
     },
     "metadata": {},
     "output_type": "display_data"
    }
   ],
   "source": [
    "plt.figure(figsize=(12,5))\n",
    "plt.xticks(rotation=45, ha='right')\n",
    "sns.set_theme(style='darkgrid')\n",
    "salarios_job_graf = sns.barplot(data=tabela_job, \n",
    "                                x=tabela_job['job_title'], \n",
    "                                y=tabela_job['salary_in_usd'], \n",
    "                                palette='pastel')\n",
    "salarios_job_graf.set(ylabel='Salários em Dólar', \n",
    "                      xlabel='Profissão')\n",
    "salarios_job_graf.set_title('Top 10 - Profissões com Maior Salário em Dólar', fontsize=16)\n",
    "plt.show(salarios_job_graf);\n",
    "time.sleep(1)"
   ]
  },
  {
   "cell_type": "markdown",
   "id": "1a1d729d-74f4-4d31-be6d-391aa50e1c86",
   "metadata": {},
   "source": [
    "## Total de Pessoas por Experiência e Tipo"
   ]
  },
  {
   "cell_type": "markdown",
   "id": "0459c12d-a6b0-466a-bfc0-24212330946b",
   "metadata": {},
   "source": [
    "### Experiência"
   ]
  },
  {
   "cell_type": "code",
   "execution_count": 301,
   "id": "4e22f835-5ccd-40ef-b68b-2a1c442a6f29",
   "metadata": {},
   "outputs": [
    {
     "data": {
      "image/png": "[encoded data removed]",
      "text/plain": [
       "<Figure size 720x360 with 1 Axes>"
      ]
     },
     "metadata": {},
     "output_type": "display_data"
    }
   ],
   "source": [
    "plt.figure(figsize=(10,5))\n",
    "sns.set_theme(style='darkgrid')\n",
    "tot_Lev_Prof = sns.countplot(data=tabela_data_science, \n",
    "              x=tabela_data_science['experience_level'], \n",
    "              palette='Set2')\n",
    "tot_Lev_Prof.set_xlabel('Level de Expêriencia', fontsize=12)\n",
    "tot_Lev_Prof.set_title('Total de Pessoas por Experiência', fontsize=16)\n",
    "plt.show(tot_Lev_Prof);\n",
    "time.sleep(1)"
   ]
  },
  {
   "cell_type": "markdown",
   "id": "00f586da-2258-4729-b3c5-c9066c3c695c",
   "metadata": {},
   "source": [
    "### Tipo"
   ]
  },
  {
   "cell_type": "code",
   "execution_count": 302,
   "id": "3ba7c4dd-3e23-43d6-94ae-c4538f19a370",
   "metadata": {},
   "outputs": [
    {
     "data": {
      "image/png": "[encoded data removed]",
      "text/plain": [
       "<Figure size 720x360 with 1 Axes>"
      ]
     },
     "metadata": {},
     "output_type": "display_data"
    }
   ],
   "source": [
    "plt.figure(figsize=(10,5))\n",
    "sns.set_theme(style='darkgrid')\n",
    "tot_Lev_type = sns.countplot(data=tabela_data_science, \n",
    "              x=tabela_data_science['employment_type'], \n",
    "              palette='Set2')\n",
    "tot_Lev_type.set_xlabel('Tipo de Funcionário', fontsize=12)\n",
    "tot_Lev_type.set_ylabel(None)\n",
    "tot_Lev_type.set_xticklabels(labels=['Full Timer', 'Consultant', 'Part Timer', 'Free Lancer'])\n",
    "tot_Lev_type.set_title('Total de Pessoas por Tipo', fontsize=16)\n",
    "plt.show(tot_Lev_type);\n",
    "time.sleep(1)"
   ]
  },
  {
   "cell_type": "markdown",
   "id": "fde18808-bb56-4703-b97e-24669b8cdeac",
   "metadata": {},
   "source": [
    "## Pessoas por País"
   ]
  },
  {
   "cell_type": "code",
   "execution_count": 303,
   "id": "75b12e45-3cc2-4cef-8b97-613ac3481196",
   "metadata": {},
   "outputs": [
    {
     "data": {
      "image/png": "[encoded data removed]",
      "text/plain": [
       "<Figure size 720x504 with 1 Axes>"
      ]
     },
     "metadata": {},
     "output_type": "display_data"
    }
   ],
   "source": [
    "plt.figure(figsize=(10,7))\n",
    "sns.set_theme(style='darkgrid')\n",
    "tot_pais = sns.countplot(data=tabela_data_science, \n",
    "              y=tabela_data_science['employee_residence'], \n",
    "              palette='colorblind',\n",
    "                order=tabela_data_science['employee_residence'].value_counts().iloc[:10].index)\n",
    "tot_pais.set_ylabel('País', fontsize=12)\n",
    "tot_pais.set_xlabel(None)\n",
    "tot_pais.set_title('Total de Pessoas por País', fontsize=16)\n",
    "plt.show(tot_pais);\n",
    "time.sleep(1)"
   ]
  },
  {
   "cell_type": "markdown",
   "id": "6ed03d1e-8e30-4afa-9341-642c94932d9b",
   "metadata": {},
   "source": [
    "## Abrir Navegador e Criar Repositorio no GitHub Automaticamente"
   ]
  },
  {
   "cell_type": "code",
   "execution_count": null,
   "id": "1917619d-df2b-46a5-bee1-dcd7c5a64612",
   "metadata": {
    "tags": []
   },
   "outputs": [],
   "source": [
    "pag.hotkey('ctrl', 't')\n",
    "pag.write('https://github.com/')\n",
    "pag.press('enter')\n",
    "time.sleep(1)\n",
    "\n",
    "pag.click(x=1300, y=136)\n",
    "pag.press('down', presses=4)\n",
    "pag.press('enter')\n",
    "time.sleep(1)\n",
    "\n",
    "pag.press('tab', presses=24)\n",
    "pag.press('enter')\n",
    "time.sleep(1)\n",
    "\n",
    "pag.press('tab')\n",
    "pag.write('Automacao-Analise-Github-Python')\n",
    "pag.press('tab', presses=9)\n",
    "pag.press('enter')\n",
    "time.sleep(8)"
   ]
  },
  {
   "cell_type": "markdown",
   "id": "5a921f74-e951-4281-97ba-b1d7376cdcd4",
   "metadata": {},
   "source": [
    "## Adicionar Projeto ao Repositório"
   ]
  },
  {
   "cell_type": "code",
   "execution_count": null,
   "id": "8664c1c3-0f8d-47e1-b61d-fb82efc6741f",
   "metadata": {},
   "outputs": [],
   "source": [
    "pag.press('tab', presses=34)\n",
    "pag.press('enter')\n",
    "time.sleep(3)\n",
    "\n",
    "pag.click(x=653, y=515)\n",
    "pc.copy(r'C:\\Users\\wpena\\Downloads\\ds_salaries.csv')\n",
    "pag.hotkey('ctrl','v')\n",
    "pag.press('enter')\n",
    "time.sleep(2)\n",
    "\n",
    "pag.click(x=653, y=515)\n",
    "pc.copy(r'C:\\Users\\wpena\\Jupyter\\Exercicios\\Automação-GitHub\\Analise_Automacao_Github_DataScience.ipynb')\n",
    "pag.hotkey('ctrl','v')\n",
    "pag.press('enter')\n",
    "time.sleep(3)\n",
    "\n",
    "pag.press('tab', presses=4)\n",
    "pag.write('first commit')\n",
    "pag.press('tab', presses=2)\n",
    "pag.press('enter')"
   ]
  }
 ],
 "metadata": {
  "kernelspec": {
   "display_name": "Python 3 (ipykernel)",
   "language": "python",
   "name": "python3"
  },
  "language_info": {
   "codemirror_mode": {
    "name": "ipython",
    "version": 3
   },
   "file_extension": ".py",
   "mimetype": "text/x-python",
   "name": "python",
   "nbconvert_exporter": "python",
   "pygments_lexer": "ipython3",
   "version": "3.9.7"
  }
 },
 "nbformat": 4,
 "nbformat_minor": 5
}
